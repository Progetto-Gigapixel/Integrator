{
 "cells": [
  {
   "cell_type": "markdown",
   "id": "initial_id",
   "metadata": {
    "collapsed": true
   },
   "source": [
    "# Analisi del Codice - Color Checker Detection\n",
    "\n",
    "## Struttura Generale del Progetto\n",
    "La struttura del progetto è incentrata sul rilevamento e l'analisi dei color checker nelle immagini. L'architettura si basa su moduli Python che utilizzano principalmente OpenCV per l'elaborazione delle immagini.\n",
    "\n",
    "### Dipendenze Principali\n",
    "- OpenCV (opencv-python)\n",
    "- NumPy\n",
    "- matplotlib\n",
    "- scikit-learn\n",
    "\n",
    "### Flusso Principale\n",
    "1. Acquisizione dell'immagine\n",
    "2. Pre-elaborazione e normalizzazione\n",
    "3. Rilevamento del color checker\n",
    "4. Estrazione e analisi dei patch colorati\n",
    "5. Calibrazione e correzione del colore\n",
    "\n",
    "## Componenti Principali\n",
    "\n",
    "### FindColorCheckerSegmentation\n",
    "Il componente principale che gestisce il rilevamento del color checker nelle immagini.\n",
    "\n",
    "#### Funzionalità Chiave\n",
    "- Rilevamento automatico del color checker nell'immagine\n",
    "- Segmentazione dei patch colorati\n",
    "- Calcolo preciso delle coordinate dei patch\n",
    "- Estrazione dei valori RGB\n",
    "- Correzione prospettica tramite matrice di omografia\n",
    "\n",
    "#### Dettagli"
   ]
  }
 ],
 "metadata": {
  "kernelspec": {
   "display_name": "Python 3",
   "language": "python",
   "name": "python3"
  },
  "language_info": {
   "codemirror_mode": {
    "name": "ipython",
    "version": 2
   },
   "file_extension": ".py",
   "mimetype": "text/x-python",
   "name": "python",
   "nbconvert_exporter": "python",
   "pygments_lexer": "ipython2",
   "version": "2.7.6"
  }
 },
 "nbformat": 4,
 "nbformat_minor": 5
}
